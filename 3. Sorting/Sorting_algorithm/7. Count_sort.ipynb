{
 "cells": [
  {
   "cell_type": "code",
   "execution_count": null,
   "id": "377f256b",
   "metadata": {},
   "outputs": [],
   "source": [
    "# Count sorting algorithm"
   ]
  },
  {
   "cell_type": "code",
   "execution_count": 4,
   "id": "7bb4ace5",
   "metadata": {},
   "outputs": [
    {
     "name": "stdout",
     "output_type": "stream",
     "text": [
      "Original Array: [3, 5, 8, 9, 6, 2, 3, 5, 5]\n",
      "Sorted Array: [2, 3, 5, 6, 8, 9, 3, 5, 5]\n"
     ]
    }
   ],
   "source": [
    "def count_sort(A):\n",
    "    n = len(A)\n",
    "    maxsize = max(A)\n",
    "    carray = [0] * (maxsize + 1)\n",
    "    for i in range(n):\n",
    "        carray[A[i]] = carray[A[i]] + 1        \n",
    "    i = 0\n",
    "    j = 0\n",
    "    while i < maxsize + 1:\n",
    "        if carray[i] > 0:\n",
    "            A[j] = i\n",
    "            j = j + 1\n",
    "            carray[i] = carray[i] - i\n",
    "        else:\n",
    "            i = i + 1\n",
    "            \n",
    "A = [3,5,8,9,6,2,3,5,5]\n",
    "print('Original Array:',A)\n",
    "count_sort(A)\n",
    "print('Sorted Array:',A)"
   ]
  },
  {
   "cell_type": "code",
   "execution_count": 1,
   "id": "a4669fcc",
   "metadata": {},
   "outputs": [
    {
     "name": "stdout",
     "output_type": "stream",
     "text": [
      "Original Array: [3, 5, 8, 9, 6, 2, 3, 5, 5]\n",
      "Sorted Array: [2, 3, 3, 5, 5, 5, 6, 8, 9]\n"
     ]
    }
   ],
   "source": [
    "def countsort(A):\n",
    "    n = len(A)\n",
    "    maxsize = max(A)\n",
    "    carray = [0] * (maxsize + 1)\n",
    "    for i in range(n):\n",
    "        carray[A[i]] = carray[A[i]] + 1\n",
    "    i = 0\n",
    "    j = 0\n",
    "    while i < maxsize + 1:\n",
    "        if carray[i] > 0:\n",
    "            A[j] = i\n",
    "            j = j + 1\n",
    "            carray[i] = carray[i] - 1\n",
    "        else:\n",
    "            i = i + 1\n",
    "\n",
    "\n",
    "A = [3, 5, 8, 9, 6, 2, 3, 5, 5]\n",
    "print('Original Array:',A)\n",
    "countsort(A)\n",
    "print('Sorted Array:',A)"
   ]
  },
  {
   "cell_type": "code",
   "execution_count": null,
   "id": "e6f10ac1",
   "metadata": {},
   "outputs": [],
   "source": []
  }
 ],
 "metadata": {
  "kernelspec": {
   "display_name": "Python 3",
   "language": "python",
   "name": "python3"
  },
  "language_info": {
   "codemirror_mode": {
    "name": "ipython",
    "version": 3
   },
   "file_extension": ".py",
   "mimetype": "text/x-python",
   "name": "python",
   "nbconvert_exporter": "python",
   "pygments_lexer": "ipython3",
   "version": "3.8.8"
  }
 },
 "nbformat": 4,
 "nbformat_minor": 5
}
