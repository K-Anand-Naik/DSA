{
 "cells": [
  {
   "cell_type": "code",
   "execution_count": 1,
   "id": "17cd63f5",
   "metadata": {},
   "outputs": [
    {
     "name": "stdout",
     "output_type": "stream",
     "text": [
      "Original Array:  [3, 5, 8, 9, 6, 2]\n",
      "Sorted Array:  [2, 3, 5, 6, 8, 9]\n"
     ]
    }
   ],
   "source": [
    "def bubble_sort(A):\n",
    "    n = len(A)\n",
    "    for passes in range(n-1,0,-1): #third value is to decrement the sequence\n",
    "        for i in range(passes):\n",
    "            if A[i] > A[i+1]:\n",
    "                temp = A[i]\n",
    "                A[i] = A[i+1]\n",
    "                A[i+1] = temp\n",
    "\n",
    "A = [3,5,8,9,6,2]\n",
    "print(\"Original Array: \",A)\n",
    "bubble_sort(A)\n",
    "print(\"Sorted Array: \",A)"
   ]
  },
  {
   "cell_type": "code",
   "execution_count": null,
   "id": "c571cf31",
   "metadata": {},
   "outputs": [],
   "source": []
  }
 ],
 "metadata": {
  "kernelspec": {
   "display_name": "Python 3",
   "language": "python",
   "name": "python3"
  },
  "language_info": {
   "codemirror_mode": {
    "name": "ipython",
    "version": 3
   },
   "file_extension": ".py",
   "mimetype": "text/x-python",
   "name": "python",
   "nbconvert_exporter": "python",
   "pygments_lexer": "ipython3",
   "version": "3.8.8"
  }
 },
 "nbformat": 4,
 "nbformat_minor": 5
}
