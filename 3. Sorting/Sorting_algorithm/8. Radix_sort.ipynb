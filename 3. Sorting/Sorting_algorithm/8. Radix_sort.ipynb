{
 "cells": [
  {
   "cell_type": "code",
   "execution_count": 5,
   "id": "e06010ef",
   "metadata": {},
   "outputs": [
    {
     "name": "stdout",
     "output_type": "stream",
     "text": [
      "Original Array: [63, 250, 835, 947, 651, 28]\n",
      "Sorted Array: [28, 63, 250, 651, 835, 947]\n"
     ]
    }
   ],
   "source": [
    "def radixsort(A):\n",
    "    n = len(A)\n",
    "    maxelement = max(A)\n",
    "    digits = len(str(maxelement))\n",
    "    l = []\n",
    "    bins = [l] * 10\n",
    "    for i in range(digits):\n",
    "        for j in range(n):\n",
    "            e = int((A[j] / pow(10, i)) % 10)\n",
    "            if len(bins[e]) > 0:\n",
    "                bins[e].append(A[j])\n",
    "            else:\n",
    "                bins[e] = [A[j]]\n",
    "        k = 0\n",
    "        for x in range(10):\n",
    "            if len(bins[x]) > 0:\n",
    "                for y in range(len(bins[x])):\n",
    "                    A[k] = bins[x].pop(0)\n",
    "                    k = k + 1\n",
    "\n",
    "\n",
    "A = [63, 250, 835, 947, 651, 28]\n",
    "print('Original Array:',A)\n",
    "radixsort(A)\n",
    "print('Sorted Array:',A)\n",
    "\n",
    "                    "
   ]
  },
  {
   "cell_type": "code",
   "execution_count": null,
   "id": "7d4bb023",
   "metadata": {},
   "outputs": [],
   "source": []
  }
 ],
 "metadata": {
  "kernelspec": {
   "display_name": "Python 3",
   "language": "python",
   "name": "python3"
  },
  "language_info": {
   "codemirror_mode": {
    "name": "ipython",
    "version": 3
   },
   "file_extension": ".py",
   "mimetype": "text/x-python",
   "name": "python",
   "nbconvert_exporter": "python",
   "pygments_lexer": "ipython3",
   "version": "3.8.8"
  }
 },
 "nbformat": 4,
 "nbformat_minor": 5
}
