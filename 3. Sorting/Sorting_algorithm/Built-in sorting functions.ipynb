{
 "cells": [
  {
   "cell_type": "code",
   "execution_count": 3,
   "id": "513f64d1",
   "metadata": {},
   "outputs": [
    {
     "name": "stdout",
     "output_type": "stream",
     "text": [
      "Oringinal Array:  [63, 250, 835, 947, 651, 28]\n",
      "Sorted Array:  [28, 63, 250, 651, 835, 947]\n"
     ]
    }
   ],
   "source": [
    "A = [63,250,835,947,651,28]\n",
    "print('Oringinal Array: ',A)\n",
    "A.sort()\n",
    "print(\"Sorted Array: \",A)"
   ]
  },
  {
   "cell_type": "code",
   "execution_count": 4,
   "id": "7602f310",
   "metadata": {},
   "outputs": [
    {
     "name": "stdout",
     "output_type": "stream",
     "text": [
      "Original Array:  [28, 63, 250, 651, 835, 947]\n",
      "List-A [28, 63, 250, 651, 835, 947]\n",
      "List-B [28, 63, 250, 651, 835, 947]\n"
     ]
    }
   ],
   "source": [
    "print('Original Array: ',A)\n",
    "B = sorted(A)\n",
    "print('List-A',A)\n",
    "print('List-B',B)"
   ]
  },
  {
   "cell_type": "code",
   "execution_count": 5,
   "id": "4301213c",
   "metadata": {},
   "outputs": [
    {
     "name": "stdout",
     "output_type": "stream",
     "text": [
      "Original Array:  [28, 63, 250, 651, 835, 947]\n",
      "sorted Array:  [947, 835, 651, 250, 63, 28]\n"
     ]
    }
   ],
   "source": [
    "print('Original Array: ',A)\n",
    "A.sort(reverse = True)\n",
    "print('sorted Array: ',A)\n"
   ]
  },
  {
   "cell_type": "code",
   "execution_count": null,
   "id": "4fb06010",
   "metadata": {},
   "outputs": [],
   "source": []
  }
 ],
 "metadata": {
  "kernelspec": {
   "display_name": "Python 3",
   "language": "python",
   "name": "python3"
  },
  "language_info": {
   "codemirror_mode": {
    "name": "ipython",
    "version": 3
   },
   "file_extension": ".py",
   "mimetype": "text/x-python",
   "name": "python",
   "nbconvert_exporter": "python",
   "pygments_lexer": "ipython3",
   "version": "3.8.8"
  }
 },
 "nbformat": 4,
 "nbformat_minor": 5
}
