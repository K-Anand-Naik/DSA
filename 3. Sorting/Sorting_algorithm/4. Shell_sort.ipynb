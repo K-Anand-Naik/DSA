{
 "cells": [
  {
   "cell_type": "code",
   "execution_count": 2,
   "id": "56a77283",
   "metadata": {},
   "outputs": [
    {
     "name": "stdout",
     "output_type": "stream",
     "text": [
      "Original Array: [3, 5, 8, 9, 6, 2]\n",
      "Sorted Array: [2, 3, 5, 6, 8, 9]\n"
     ]
    }
   ],
   "source": [
    "def shell_sort(A):\n",
    "    n = len(A)\n",
    "    gap = n//2\n",
    "    while gap > 0:\n",
    "        i = gap\n",
    "        while i < n:\n",
    "            temp = A[i]\n",
    "            j = i - gap\n",
    "            while j >= 0 and A[j] > temp:\n",
    "                A[j+gap] = A[j]\n",
    "                j = j-gap\n",
    "            A[j+gap] = temp\n",
    "            i = i+1\n",
    "        gap = gap//2\n",
    "        \n",
    "A = [3,5,8,9,6,2]\n",
    "print('Original Array:',A)\n",
    "shell_sort(A)\n",
    "print('Sorted Array:',A)"
   ]
  },
  {
   "cell_type": "code",
   "execution_count": null,
   "id": "63c2fe8e",
   "metadata": {},
   "outputs": [],
   "source": []
  }
 ],
 "metadata": {
  "kernelspec": {
   "display_name": "Python 3",
   "language": "python",
   "name": "python3"
  },
  "language_info": {
   "codemirror_mode": {
    "name": "ipython",
    "version": 3
   },
   "file_extension": ".py",
   "mimetype": "text/x-python",
   "name": "python",
   "nbconvert_exporter": "python",
   "pygments_lexer": "ipython3",
   "version": "3.8.8"
  }
 },
 "nbformat": 4,
 "nbformat_minor": 5
}
