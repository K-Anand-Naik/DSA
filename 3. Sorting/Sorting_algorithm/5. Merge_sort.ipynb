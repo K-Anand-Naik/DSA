{
 "cells": [
  {
   "cell_type": "code",
   "execution_count": null,
   "id": "a024c8d8",
   "metadata": {},
   "outputs": [],
   "source": [
    "#merge sort\n"
   ]
  },
  {
   "cell_type": "code",
   "execution_count": 2,
   "id": "78edf8f0",
   "metadata": {},
   "outputs": [
    {
     "name": "stdout",
     "output_type": "stream",
     "text": [
      "Original Array:  [3, 5, 8, 9, 6, 2]\n",
      "Sorted Array:  [2, 3, 5, 6, 8, 9]\n"
     ]
    }
   ],
   "source": [
    "def merge_sort(A,left,right):\n",
    "    if left < right:\n",
    "        mid = (left + right) // 2\n",
    "        merge_sort(A,left,mid)\n",
    "        merge_sort(A,mid+1,right)\n",
    "        merge(A,left,mid,right)\n",
    "        \n",
    "def merge(A,left,mid,right):\n",
    "    i = left\n",
    "    j = mid + 1\n",
    "    k = left\n",
    "    B = [0] * (right+1)\n",
    "    while i <= mid and j <= right:\n",
    "        if A[i] < A[j]:\n",
    "            B[k] = A[i]\n",
    "            i = i + 1\n",
    "        else:\n",
    "            B[k] = A[j]\n",
    "            j = j+1\n",
    "        k = k + 1\n",
    "    \n",
    "    while i <= mid:\n",
    "        B[k] = A[i]\n",
    "        i = i + 1\n",
    "        k = k + 1\n",
    "    while j <= right:\n",
    "        B[k] = A[j]\n",
    "        j = j + 1\n",
    "        k = k + 1\n",
    "    for x in range(left,right+1):\n",
    "        A[x] = B[x]\n",
    "        \n",
    "A = [3,5,8,9,6,2]\n",
    "print('Original Array: ',A)\n",
    "merge_sort(A,0,len(A)-1)\n",
    "print('Sorted Array: ',A)"
   ]
  },
  {
   "cell_type": "code",
   "execution_count": null,
   "id": "d3e5e12a",
   "metadata": {},
   "outputs": [],
   "source": []
  }
 ],
 "metadata": {
  "kernelspec": {
   "display_name": "Python 3",
   "language": "python",
   "name": "python3"
  },
  "language_info": {
   "codemirror_mode": {
    "name": "ipython",
    "version": 3
   },
   "file_extension": ".py",
   "mimetype": "text/x-python",
   "name": "python",
   "nbconvert_exporter": "python",
   "pygments_lexer": "ipython3",
   "version": "3.8.8"
  }
 },
 "nbformat": 4,
 "nbformat_minor": 5
}
