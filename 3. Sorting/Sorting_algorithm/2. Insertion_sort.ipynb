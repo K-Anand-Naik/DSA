{
 "cells": [
  {
   "cell_type": "code",
   "execution_count": 1,
   "id": "2b81e81c",
   "metadata": {},
   "outputs": [
    {
     "name": "stdout",
     "output_type": "stream",
     "text": [
      "Original Array:  [3, 5, 8, 9, 6, 2]\n",
      "sorted array: [2, 3, 5, 6, 8, 9]\n"
     ]
    }
   ],
   "source": [
    "def insertion_sort(A):\n",
    "    n = len(A)\n",
    "    for i in range(1,n):\n",
    "        cvalue = A[i]\n",
    "        position = i\n",
    "        while position > 0 and A[position-1] > cvalue:\n",
    "            A[position]=A[position-1]\n",
    "            position = position-1\n",
    "        A[position] = cvalue\n",
    "        \n",
    "A = [3,5,8,9,6,2]\n",
    "print(\"Original Array: \",A)\n",
    "insertion_sort(A)\n",
    "print(\"sorted array:\",A)"
   ]
  },
  {
   "cell_type": "code",
   "execution_count": null,
   "id": "4ec7b660",
   "metadata": {},
   "outputs": [],
   "source": []
  }
 ],
 "metadata": {
  "kernelspec": {
   "display_name": "Python 3",
   "language": "python",
   "name": "python3"
  },
  "language_info": {
   "codemirror_mode": {
    "name": "ipython",
    "version": 3
   },
   "file_extension": ".py",
   "mimetype": "text/x-python",
   "name": "python",
   "nbconvert_exporter": "python",
   "pygments_lexer": "ipython3",
   "version": "3.8.8"
  }
 },
 "nbformat": 4,
 "nbformat_minor": 5
}
