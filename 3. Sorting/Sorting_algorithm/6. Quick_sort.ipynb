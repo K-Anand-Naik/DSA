{
 "cells": [
  {
   "cell_type": "code",
   "execution_count": null,
   "id": "2ddaeb73",
   "metadata": {},
   "outputs": [],
   "source": [
    "# quick sort algorithm"
   ]
  },
  {
   "cell_type": "code",
   "execution_count": 6,
   "id": "22bb3520",
   "metadata": {},
   "outputs": [
    {
     "name": "stdout",
     "output_type": "stream",
     "text": [
      "Original Array:  [3, 5, 8, 9, 6, 2]\n",
      "Sorted Array:  [2, 3, 5, 6, 8, 9]\n"
     ]
    }
   ],
   "source": [
    "def quick_sort(A,low,high):\n",
    "    if low < high:\n",
    "        pi = partition(A,low,high)\n",
    "        quick_sort(A,low,pi-1)\n",
    "        quick_sort(A,pi+1,high)\n",
    "        \n",
    "def partition(A,low,high):\n",
    "    pivot = A[low]\n",
    "    i = low + 1\n",
    "    j = high\n",
    "    while True:\n",
    "        while i<= j and A[i] <= pivot:\n",
    "            i = i + 1\n",
    "        while j <= j and A[j] > pivot:\n",
    "            j = j - 1\n",
    "        if i <= j:\n",
    "            A[i],A[j] = A[j],A[i]\n",
    "        else:\n",
    "            break\n",
    "    A[low],A[j] = A[j],A[low]\n",
    "    return j\n",
    "\n",
    "A = [3,5,8,9,6,2]\n",
    "print('Original Array: ',A)\n",
    "quick_sort(A, 0, len(A)-1)\n",
    "print('Sorted Array: ',A)\n"
   ]
  },
  {
   "cell_type": "code",
   "execution_count": null,
   "id": "ae470972",
   "metadata": {},
   "outputs": [],
   "source": []
  }
 ],
 "metadata": {
  "kernelspec": {
   "display_name": "Python 3",
   "language": "python",
   "name": "python3"
  },
  "language_info": {
   "codemirror_mode": {
    "name": "ipython",
    "version": 3
   },
   "file_extension": ".py",
   "mimetype": "text/x-python",
   "name": "python",
   "nbconvert_exporter": "python",
   "pygments_lexer": "ipython3",
   "version": "3.8.8"
  }
 },
 "nbformat": 4,
 "nbformat_minor": 5
}
