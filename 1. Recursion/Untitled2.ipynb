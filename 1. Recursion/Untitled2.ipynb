{
 "cells": [
  {
   "cell_type": "code",
   "execution_count": null,
   "id": "ba94d71a",
   "metadata": {},
   "outputs": [],
   "source": [
    "# Program to print the fibonacci series upto n_terms\n",
    "  \n",
    "# Recursive function\n",
    "def recursive_fibonacci(n):\n",
    "   if n <= 1:\n",
    "       return n\n",
    "   else:\n",
    "       return(recursive_fibonacci(n-1) + recursive_fibonacci(n-2))\n",
    "   \n",
    "n_terms = 10\n",
    "   \n",
    "# check if the number of terms is valid\n",
    "if n_terms <= 0:\n",
    "   print(\"Invalid input ! Please input a positive value\")\n",
    "else:\n",
    "   print(\"Fibonacci series:\")\n",
    "   for i in range(n_terms):\n",
    "       print(recursive_fibonacci(i))"
   ]
  },
  {
   "cell_type": "code",
   "execution_count": 8,
   "id": "9b4f33d7",
   "metadata": {},
   "outputs": [
    {
     "name": "stdout",
     "output_type": "stream",
     "text": [
      "Fibonacci series:\n",
      "0\n",
      "1\n",
      "1\n",
      "2\n",
      "3\n",
      "5\n",
      "8\n",
      "13\n",
      "21\n",
      "34\n"
     ]
    }
   ],
   "source": [
    "def fib_rec(n):\n",
    "    if n <= 1:\n",
    "        return n\n",
    "    return fib_rec(n-1)+fib_rec(n-2)\n",
    "\n",
    "n_terms = 10\n",
    "\n",
    "if n_terms < 0:\n",
    "    print(\"Invalid input !\")\n",
    "else:\n",
    "    print(\"Fibonacci series:\")\n",
    "    for i in range (n_terms):\n",
    "        print(fib_rec(i))"
   ]
  },
  {
   "cell_type": "code",
   "execution_count": null,
   "id": "81bab7de",
   "metadata": {},
   "outputs": [],
   "source": []
  }
 ],
 "metadata": {
  "kernelspec": {
   "display_name": "Python 3",
   "language": "python",
   "name": "python3"
  },
  "language_info": {
   "codemirror_mode": {
    "name": "ipython",
    "version": 3
   },
   "file_extension": ".py",
   "mimetype": "text/x-python",
   "name": "python",
   "nbconvert_exporter": "python",
   "pygments_lexer": "ipython3",
   "version": "3.8.8"
  }
 },
 "nbformat": 4,
 "nbformat_minor": 5
}
