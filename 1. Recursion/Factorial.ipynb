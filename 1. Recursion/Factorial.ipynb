{
 "cells": [
  {
   "cell_type": "code",
   "execution_count": 1,
   "id": "cc1ba989",
   "metadata": {},
   "outputs": [
    {
     "name": "stdout",
     "output_type": "stream",
     "text": [
      "Enter Number: 4\n",
      "Factorial:  24\n"
     ]
    }
   ],
   "source": [
    "def factorial_itr(n):\n",
    "    fact = 1\n",
    "    for i in range(1, n + 1):\n",
    "        fact = fact * i\n",
    "    return fact\n",
    "\n",
    "\n",
    "num = input('Enter Number: ')\n",
    "n = int(num)\n",
    "print('Factorial: ', factorial_itr(n))"
   ]
  },
  {
   "cell_type": "code",
   "execution_count": 18,
   "id": "7b86a621",
   "metadata": {},
   "outputs": [
    {
     "name": "stdout",
     "output_type": "stream",
     "text": [
      "Enter number: 4\n",
      "the factorial of 4 is 24\n"
     ]
    }
   ],
   "source": [
    "def fact_rec(n):\n",
    "    if n == 0:\n",
    "        return 1\n",
    "    return fact_rec(n-1)*n\n",
    "\n",
    "n = int(input('Enter number: '))\n",
    "print(\"the factorial of\",n,\"is\",fact_rec(n))"
   ]
  },
  {
   "cell_type": "code",
   "execution_count": null,
   "id": "27bc5d98",
   "metadata": {},
   "outputs": [],
   "source": []
  }
 ],
 "metadata": {
  "kernelspec": {
   "display_name": "Python 3",
   "language": "python",
   "name": "python3"
  },
  "language_info": {
   "codemirror_mode": {
    "name": "ipython",
    "version": 3
   },
   "file_extension": ".py",
   "mimetype": "text/x-python",
   "name": "python",
   "nbconvert_exporter": "python",
   "pygments_lexer": "ipython3",
   "version": "3.8.8"
  }
 },
 "nbformat": 4,
 "nbformat_minor": 5
}
