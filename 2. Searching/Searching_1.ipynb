{
 "cells": [
  {
   "cell_type": "code",
   "execution_count": null,
   "id": "10a84a05",
   "metadata": {},
   "outputs": [],
   "source": [
    "#linear search algorithm using iterative method"
   ]
  },
  {
   "cell_type": "code",
   "execution_count": 7,
   "id": "06e43201",
   "metadata": {},
   "outputs": [
    {
     "name": "stdout",
     "output_type": "stream",
     "text": [
      "Enter the number to be searched: 21\n",
      "The required value is at index:  (1, 21)\n"
     ]
    }
   ],
   "source": [
    "def lin_srh_itr(A,key):\n",
    "    index = 0\n",
    "    while index < len(A):\n",
    "        if A[index] == key:\n",
    "            return index,key\n",
    "        index = index + 1\n",
    "    return -1\n",
    "\n",
    "A = [84,21,47,96,15]\n",
    "ans = lin_srh_itr(A,int(input(\"Enter the number to be searched: \")))\n",
    "print(\"The required value is at index: \",ans)\n",
    "\n",
    "        \n",
    "        "
   ]
  },
  {
   "cell_type": "code",
   "execution_count": null,
   "id": "d3f1bc3e",
   "metadata": {},
   "outputs": [],
   "source": []
  },
  {
   "cell_type": "code",
   "execution_count": null,
   "id": "e5f3872f",
   "metadata": {},
   "outputs": [],
   "source": [
    "#Binery search algorithm with iterative method"
   ]
  },
  {
   "cell_type": "code",
   "execution_count": 10,
   "id": "5748e0cb",
   "metadata": {},
   "outputs": [
    {
     "name": "stdout",
     "output_type": "stream",
     "text": [
      "Enter your number: 96\n",
      "3\n"
     ]
    }
   ],
   "source": [
    "def bin_srh_itr(A,key):\n",
    "    l = 0\n",
    "    r = len(A)-1\n",
    "    while l < r:\n",
    "        mid = (l+r)//2\n",
    "        if key == A[mid]:\n",
    "            return mid\n",
    "        elif key < A[mid]:\n",
    "            return mid - 1\n",
    "        elif key > A[mid]:\n",
    "            return mid + 1\n",
    "        \n",
    "    return -1\n",
    "\n",
    "A = [15,21,47,84,96]\n",
    "ans = bin_srh_itr(A,int(input(\"Enter your number: \")))\n",
    "print(ans)    "
   ]
  },
  {
   "cell_type": "code",
   "execution_count": null,
   "id": "a5a99c68",
   "metadata": {},
   "outputs": [],
   "source": [
    "#Binary search algorithm using recursive method"
   ]
  },
  {
   "cell_type": "code",
   "execution_count": 2,
   "id": "be0accb5",
   "metadata": {},
   "outputs": [
    {
     "name": "stdout",
     "output_type": "stream",
     "text": [
      "Enter your key: 96\n",
      "Your key is at index: 4\n"
     ]
    }
   ],
   "source": [
    "def bin_srh_rec(A,key,l,r):\n",
    "    if l > r:\n",
    "        return -1\n",
    "    else:\n",
    "        mid = (l+r)//2\n",
    "        if key == A[mid]:\n",
    "            return mid\n",
    "        elif key < A[mid]:\n",
    "            return bin_srh_rec(A,key,l,mid-1)\n",
    "        elif key > A[mid]:\n",
    "            return bin_srh_rec(A,key,mid+1,r)\n",
    "        \n",
    "A = [15,21,47,84,96]  #list should be in sorted order\n",
    "ans = bin_srh_rec(A,int(input(\"Enter your key: \")),0,len(A)-1)\n",
    "print(\"Your key is at index:\",ans)"
   ]
  },
  {
   "cell_type": "code",
   "execution_count": null,
   "id": "d05f6e90",
   "metadata": {},
   "outputs": [],
   "source": []
  }
 ],
 "metadata": {
  "kernelspec": {
   "display_name": "Python 3",
   "language": "python",
   "name": "python3"
  },
  "language_info": {
   "codemirror_mode": {
    "name": "ipython",
    "version": 3
   },
   "file_extension": ".py",
   "mimetype": "text/x-python",
   "name": "python",
   "nbconvert_exporter": "python",
   "pygments_lexer": "ipython3",
   "version": "3.8.8"
  }
 },
 "nbformat": 4,
 "nbformat_minor": 5
}
